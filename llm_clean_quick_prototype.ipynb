{
 "cells": [
  {
   "cell_type": "code",
   "execution_count": 1,
   "metadata": {},
   "outputs": [
    {
     "data": {
      "application/vnd.jupyter.widget-view+json": {
       "model_id": "5bbe31bebace404d83f45aa9684015ed",
       "version_major": 2,
       "version_minor": 0
      },
      "text/plain": [
       "Loading checkpoint shards:   0%|          | 0/2 [00:00<?, ?it/s]"
      ]
     },
     "metadata": {},
     "output_type": "display_data"
    },
    {
     "name": "stderr",
     "output_type": "stream",
     "text": [
      "Special tokens have been added in the vocabulary, make sure the associated word embeddings are fine-tuned or trained.\n"
     ]
    }
   ],
   "source": [
    "import torch\n",
    "import pdfplumber\n",
    "import tqdm\n",
    "from transformers import AutoModelForCausalLM, AutoTokenizer\n",
    "from IPython.display import clear_output\n",
    "\n",
    "device = torch.cuda.current_device()\n",
    "name = \"mistralai/Mistral-7B-Instruct-v0.1\"\n",
    "\n",
    "model = AutoModelForCausalLM.from_pretrained(name, load_in_4bit=True, device_map=device)\n",
    "tokenizer = AutoTokenizer.from_pretrained(name)"
   ]
  },
  {
   "cell_type": "code",
   "execution_count": 9,
   "metadata": {},
   "outputs": [],
   "source": [
    "#doc_path = \"data/safety statement.pdf\"\n",
    "doc_path = \"data/Personal Data Breach Management Process.pdf\"\n",
    "doc_name = doc_path.split(\"/\")[-1].split(\".\")[0]\n",
    "doc = \"\"\n",
    "\n",
    "with pdfplumber.open(doc_path) as pdf:\n",
    "\n",
    "    for page in pdf.pages:\n",
    "        text = page.extract_text()\n",
    "        text = text.replace(\"Safety Statement\", \"\")\n",
    "        doc += text\n",
    "# samp_text = doc[:5000]\n",
    "samp_text = doc\n",
    "word_split = samp_text.split()\n",
    "chunk = \"\"\n",
    "\n",
    "chunk_size = 150\n",
    "overlap = 0\n",
    "n_chunks = ((len(word_split) - chunk_size) // (chunk_size - overlap)) + 1\n",
    "lstd_text = []\n",
    "\n",
    "for i in range(n_chunks):\n",
    "    start = i * (chunk_size - overlap)\n",
    "    end = start + chunk_size if i < n_chunks - 1 else len(word_split)\n",
    "    chunk = \" \".join(word_split[start:end])\n",
    "    lstd_text.append(chunk)\n",
    "    chunk = \"\""
   ]
  },
  {
   "cell_type": "code",
   "execution_count": 7,
   "metadata": {},
   "outputs": [
    {
     "name": "stderr",
     "output_type": "stream",
     "text": [
      "Processing text: 100%|██████████| 21/21 [26:49<00:00, 76.65s/it]"
     ]
    },
    {
     "name": "stdout",
     "output_type": "stream",
     "text": [
      "Corrected Text: Inhalation of chemicals, cleaning chemicals, and spills should be immediately cleaned up. Chemicals, including handsanitiser 2 3, medium (flammable), and stored in a suitable location. All hazardous substances should be separated and stored in accordance with the recommendation of the SDS. Appropriate PPE should be worn as per the cleaning agent label. References Safety, Health and Welfare at Work Act 2005 as amended. Safety, Health and Welfare at Work (General Application) Regulations 2007 and amendments, Safety, Health and Welfare at Work (Chemical Agents) Regulations 2001-2021 and associated Code of Practice 2021, Safety, Health and Welfare at Work (Biological Agents) Regulations 2013 and 2020 and associated Code of Practice 2020.\n",
      "\n",
      "Area of Risk Assessment: Remote Working\n",
      "\n",
      "Persons affected: All staff, contractors, and visitors\n",
      "\n",
      "Ref. Activity/Hazard Risk Controls\n",
      "\n",
      "Likelihood Severity Risk No. Rating\n",
      "\n",
      "15 Remote working unsafework systems\n",
      "\n",
      "Employees’ remote workstations assessed and layout resulting in setup in a similar manner to the office injury or illness.\n",
      "\n",
      "Unsafe environment with chairs which are adjustable and use of office equipment.\n",
      "\n",
      "Inseat height, backrest, height and angle.\n",
      "\n",
      "Poor lighting could lead to Display Screen Assessments completed with to eye strain, headaches, all employees who habitually use DSEs (>1 or fatigue)\n",
      "\n",
      "continuous hour per day).\n",
      "\n",
      "Poor heating and separate adjustable screens and keyboards 1 2 Low ventilation could lead to available for all workstations.\n",
      "\n",
      "Uncomfortable work environment.\n",
      "\n",
      "Adequate space provided at each workstation.\n",
      "\n",
      "Environment/stress.\n",
      "\n",
      "Document holders or other ancillary equipment, e.g., footrests, provided if requested.\n",
      "\n",
      "Employees are advised to plan works such that there are regular, natural breaks and changes of activity.\n",
      "\n",
      "References Safety, Health and Welfare at Work Act 2005 as amended.\n",
      "\n",
      "Safety, Health and Welfare at Work (General Application) Regulations 2007 and amendments, Radiological Protection Act 1991 (Ionising Radiation) Regulations 2019.\n",
      "\n",
      "51 Area of Risk Assessment: Pregnant, post-natal, and breastfeeding employees\n",
      "\n",
      "Persons affected: All staff, contractors, and visitors breastfeeding employees\n",
      "\n",
      "Ref. Activity/Hazard Risk Controls\n",
      "\n",
      "Likelihood Severity Risk No. Rating\n",
      "\n",
      "17 Work or work use of displays screen\n",
      "\n",
      "Work in office environment is low risk.\n",
      "\n",
      "Environment posing a equipment and Work in manufacturing are also low risk as hazard to pregnant, post-natal, or risks pregnant, post-natal, or breastfeeding breastfeeding employees.\n",
      "\n",
      "Employees.\n",
      "\n",
      "All other work activities.\n",
      "\n",
      "All female staff are required to advise their manager, in writing, should they become either pregnant or “new” mother (that is a woman who has given birth within the last six months and who is breast-feeding).\n",
      "\n",
      "On receipt of this notification, the managers shall arrange for a pregnancy risk assessment to be completed.\n",
      "\n",
      "Efforts shall be made to reduce the risk to pregnant employees.\n",
      "\n",
      "If risks remain significant, the pregnant or new mothers shall be re-assigned to other work where the risks assessed are not significant if required.\n",
      "\n",
      "Review held on return to work.\n",
      "\n",
      "References Safety, Health and Welfare at Work Act 2005 as amended.\n",
      "\n",
      "Safety, Health and Welfare at Work (General Application) Regulations 2007 and amendments, Safety, Health and Welfare at Work (Chemical Agents) Regulations 2001-2021 and associated Code of Practice 2021, Safety, Health and Welfare at Work (Biological Agents) Regulations 2013 and 2020 and associated Code of Practice 2020.\n",
      "\n",
      "52 Area of Risk Assessment: Stress, bullying, violence at work\n",
      "\n",
      "Persons affected: All staff, contractors, and visitors\n",
      "\n",
      "Ref. Activity/Hazard Risk Controls\n",
      "\n",
      "Likelihood Severity R\n"
     ]
    },
    {
     "name": "stderr",
     "output_type": "stream",
     "text": [
      "\n"
     ]
    }
   ],
   "source": [
    "fxd_text = []\n",
    "text_cue = \"Corrected text:\"\n",
    "tplt_prompt = f\"\"\"I need you to fix the grammatical errors and properly separate words that are stitched together within a text. Only reply with \"Corrected text:\" \"\"\"\n",
    "\n",
    "for item in tqdm.tqdm(lstd_text, desc=\"Processing text\"):\n",
    "    \n",
    "    prompt = f\"\"\"{tplt_prompt}. Original text: \"{item}\". Corrected text:\"\"\"\n",
    "    inputs = tokenizer(prompt, return_tensors=\"pt\").to(device)\n",
    "    outputs = model.generate(**inputs, max_new_tokens=chunk_size*4)\n",
    "    output_text = tokenizer.decode(outputs[0], skip_special_tokens=True)\n",
    "\n",
    "    first_time_idx = output_text.find(text_cue)\n",
    "    sec_time_idx = output_text.find(text_cue, first_time_idx + len(text_cue))\n",
    "    \n",
    "    clear_output(wait=True)     # Clear previous output\n",
    "    corrected_text = output_text[sec_time_idx + len(text_cue):].strip()\n",
    "    print(\"Corrected Text:\", corrected_text)  # Debug print\n",
    "    fxd_text.append(corrected_text)\n",
    "    \n",
    "with open(f\"data/{doc_name}.csv\", \"w\") as f:\n",
    "    for item in fxd_text:\n",
    "        f.write(\"%s\\n\" % item)"
   ]
  }
 ],
 "metadata": {
  "kernelspec": {
   "display_name": "llm",
   "language": "python",
   "name": "python3"
  },
  "language_info": {
   "codemirror_mode": {
    "name": "ipython",
    "version": 3
   },
   "file_extension": ".py",
   "mimetype": "text/x-python",
   "name": "python",
   "nbconvert_exporter": "python",
   "pygments_lexer": "ipython3",
   "version": "3.10.13"
  },
  "orig_nbformat": 4
 },
 "nbformat": 4,
 "nbformat_minor": 2
}
